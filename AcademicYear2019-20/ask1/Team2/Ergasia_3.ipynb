{
 "cells": [
  {
   "cell_type": "markdown",
   "metadata": {},
   "source": [
    "# Τεχνικές Εξόρυξης Δεδομένων\n",
    "# Μέλη: \n",
    "## 1. Αποστολοπούλου Αλεξάνδρα (1115201700005)\n",
    "## 2. Μπριάκος Σπυρίδων (1115201700101)\n",
    "## Εργασία 3η"
   ]
  },
  {
   "cell_type": "code",
   "execution_count": 7,
   "metadata": {},
   "outputs": [],
   "source": [
    "import os\n",
    "import glob\n",
    "import pandas as pd\n",
    "import numpy as np\n",
    "from sklearn.feature_extraction.text import TfidfVectorizer \n",
    "from wordcloud import WordCloud, STOPWORDS\n",
    "from sklearn.metrics.pairwise import cosine_similarity\n",
    "import warnings\n",
    "import time\n",
    "import sys\n",
    "import string\n",
    "import math\n",
    "import string\n",
    "import nltk\n",
    "from nltk import BigramCollocationFinder\n",
    "from nltk import BigramAssocMeasures\n",
    "from nltk.collocations import *"
   ]
  },
  {
   "cell_type": "markdown",
   "metadata": {},
   "source": [
    "## Ερώτημα 3.1"
   ]
  },
  {
   "cell_type": "code",
   "execution_count": 8,
   "metadata": {},
   "outputs": [],
   "source": [
    "\"\"\"\n",
    "Σε αυτό το ερώτημα φτιάξαμε τον πίνακα  TF-IDF\n",
    "των unigrams και των bigrams για τη νέα στήλη,\n",
    "αφαιρώντας τα stop words.\n",
    "\"\"\"\n",
    "\n",
    "t1 = time.time()\n",
    "warnings.simplefilter(\"ignore\", UserWarning)\n",
    "\n",
    "path = '/home/alexa/Documents/Data_Mining/ERGASIA_1/train.csv'\n",
    "path1 = '/home/alexa/Desktop/greek_stopwords.txt'\n",
    "\n",
    "df = pd.read_csv(path)\n",
    "df_new = df[['id','name','description']].copy()\n",
    "df_new['new_col'] = df_new['name'] + df_new['description'] \n",
    "df_new.dropna(axis=0,inplace=True)\n",
    "\n",
    "#Get rid of the punctiations and the symbols.\n",
    "for i, row in df_new.iterrows():\n",
    "    df_new.loc[i,'new_col']  =  df_new.loc[i,'new_col'].lower()\n",
    "    df_new.loc[i,'new_col'] = ''.join(ch for ch in df_new['new_col'][i] if ch not in set(string.punctuation))\n",
    "    \n",
    "greek_stopwords = (pd.read_csv(path1,sep='\\n'))\n",
    "greek_stopwords.columns = ['words']\n",
    "greek_stopwords = greek_stopwords['words'].tolist()\n",
    "\n",
    "all_stopwords = list(STOPWORDS) + greek_stopwords\n",
    "\n",
    "vectorizer = TfidfVectorizer(use_idf=True,stop_words=all_stopwords,ngram_range=(1,2),max_features=1000)\n",
    "V = vectorizer.fit_transform(df_new['new_col'].tolist())\n",
    "\n",
    "# print(vectorizer.vocabulary_)\n",
    "# print(V.toarray())"
   ]
  },
  {
   "cell_type": "markdown",
   "metadata": {},
   "source": [
    "## Ερώτημα 3.2"
   ]
  },
  {
   "cell_type": "code",
   "execution_count": 9,
   "metadata": {},
   "outputs": [
    {
     "name": "stdout",
     "output_type": "stream",
     "text": [
      "Cosine Similarity Matrixs shape:  (9552, 9552)\n",
      "Number of 1 into Cosine Similarity Matrix:  181\n"
     ]
    }
   ],
   "source": [
    "\"\"\"\n",
    "Εδώ βρίσκουμε το Cosine Similarity \n",
    "όλων των ακινήτων μεταξύ τους, καθώς\n",
    "και τα 100 πιο όμοια αποθηκευμένα σε\n",
    "ένα dictionary. \n",
    "\"\"\"\n",
    "\n",
    "\n",
    "V = V.toarray()\n",
    "sim = cosine_similarity(V)\n",
    "np.fill_diagonal(sim,0)\n",
    "print('Cosine Similarity Matrixs shape: ', sim.shape)\n",
    "\n",
    "#Select the upper triangle of the array because (x,y)=(y,x) refers to the same estates.\n",
    "sim = np.triu(sim)\n",
    "\n",
    "print('Number of 1 into Cosine Similarity Matrix: ', np.count_nonzero(sim==1))\n",
    "#Convert sim matrix to array and find indices of 100 greatest values of our array.\n",
    "indices = np.argpartition(sim.flatten(), -100)[-100:]\n",
    "#Find the original indices of sim matrix of 100 greatest values.\n",
    "original_indexes = np.unravel_index(indices,sim.shape)\n",
    "ziped_indexes = list(zip(original_indexes[0],original_indexes[1]))\n",
    "\n",
    "#Creating dictionary of 100 pairs of most similar pairs. (key: (id1,id2), value: score)\n",
    "final_dict = {}\n",
    "for x,y in ziped_indexes:\n",
    "    score = sim[x][y]\n",
    "    pair = (df_new['id'][x],df_new['id'][y])\n",
    "    final_dict[pair] = math.floor(score) \n",
    "# print(final_dict)"
   ]
  },
  {
   "cell_type": "markdown",
   "metadata": {},
   "source": [
    "## Ερώτημα 3.3"
   ]
  },
  {
   "cell_type": "code",
   "execution_count": 10,
   "metadata": {},
   "outputs": [
    {
     "name": "stdout",
     "output_type": "stream",
     "text": [
      "Based to:  96m2, 3BR, 2BA, Metro, WI-FI etc...  \n",
      "Description:  Athens Furnished Apartment No6 is 3-bedroom apartment with 2-bathrooms -excellent located  -close to metro station,  -lovely,  -very clean  with all the facilities that you will need, nice balcony, excellent Wi-Fi, cable tv, fully air conditioned… Athens Furnished Apartment No6 is an excellent located, close to metro, lovely, very clean 3-bedroom apartment with 2-bathrooms with all the facilities that you will need and balcony. It is on the 2nd floor but do not worry because there is elevator in the building. Fully equipped kitchen with everything you need to prepare your lunch/dinner. Living room to relax and enjoy a movie or a sport event. 2 Clean nice bathrooms. For more than 6 people there is a sofa/bed.  Apartment No6 has everything you will need. 1st Bedroom – Double bed 2nd Bedroom – 2 single beds 3rd Bedroom – 2 single beds -Telephone line for incoming calls or to call us if you need something. -Free fast Wi-Fi from the best internet provider in Greece. You do not share the con \n",
      "\n",
      "\n",
      "Recommending  5  apartments similar to  10595 \n",
      "--------------------------------------------\n",
      "Recommended:  47m2, close to metro,cable TV,wi-fi \n",
      "Description:  AQA No2 is 1-bedroom apartment (47m2)  -excellent located  -close to metro station,  -lovely,  -very clean  with all the facilities that you will need, nice balcony, excellent Wi-Fi, cable tv, fully air conditioned, etc... AQA No2 is an excellent located, close to metro, lovely, very clean 1-bedroom apartment (45 square meters) on the 2nd floor (there is elevator) with all the facilities that you will need and a very nice balcony facing the inner garden to enjoy your breakfast in the morning or relax in the evening. Separated Fully equipped kitchen with everything you need to prepare your lunch/dinner. Nice Living room to relax and enjoy a movie or a sport event. Clean nice bathroom. In case you are more than 2 people there is a sofa/bed in the living room. The studio has everything you will need. -Telephone line for incoming calls or to call us if you need something. -Free fast Wi-Fi from the best internet provider in Greece. You do not share the connection with other people. -32” tv  \n",
      "\n",
      "Recommended:  75m2, 2-br, metro, wi-fi, cable TV \n",
      "Description:  Athens Furnished Apartment No4 is 2-bedroom apartment (75 square meters)  -excellent located  -close to metro station,  -lovely,  -very clean  with all the facilities that you will need, nice balcony, excellent Wi-Fi, cable tv, fully air conditioned… Athens Furnished Apartment No4 is an excellent located, close to metro, lovely, very clean 2-bedroom apartment (75 square meters) with all the facilities that you will need and nice balcony. Fully equipped kitchen with everything you need to prepare your lunch/dinner. Living room to relax and enjoy a movie or a sport event. Big dinner table. Clean nice bathroom. For more than 4 people there is a camp bed. Apartment No4 has everything you will need. -Telephone line for incoming calls or to call us if you need something. -Free fast Wi-Fi from the best internet provider in Greece. You do not share the connection with other people. -32” tv  & DVD player -Cable TV with 1) News Channels: BBC, DW, France 24, Aljazeera, RT, Bloomberg, CNBC, Eurone \n",
      "\n",
      "Recommended:  50m2, Metro, WI-FI, cableTV, more \n",
      "Description:  Athens Furnished Apartment No3 is 1-bedroom apartment (50 square meters)  -excellent located  -close to metro station,  -lovely,  -very clean  with all the facilities that you will need, nice balcony, excellent Wi-Fi, cable tv, fully air conditioned… Athens Furnished Apartment No3 is an excellent located, close to metro, lovely, very clean 1-bedroom apartment (50 square meters) with all the facilities that you will need and a very nice balcony facing the inner garden to enjoy your breakfast in the morning or relax in the evening. Fully equipped kitchen with everything you need to prepare your lunch/dinner. Nice Living room to relax and enjoy a movie or a sport event. Clean nice bathroom. For more than 2 people there is a great double sofa/bed in the living room. Apartment No3 has everything you will need. -Telephone line for incoming calls or to call us if you need something. -Free fast Wi-Fi from the best internet provider in Greece. You do not share the connection with other people.  \n",
      "\n",
      "Recommended:  Studio, metro, cable tv, wi-fi, etc \n",
      "Description:  The Studio is an  -excellent located  -close to metro station,  -lovely,  -very clean  30 square meter studio with all the facilities that you will need, nice balcony, excellent Wi-Fi, cable tv, air-condition, central heating... AQA No1 is an excellent located, close to metro,  lovely, very clean 30m2 studio with all the facilities that you will need and a very nice balcony facing the inner garden to enjoy your breakfast in the morning or relax in the evening. Kitchen with everything you need to prepare your lunch/dinner (there is no oven).  Clean nice bathroom.  The studio has everything you will need. -Telephone line for incoming calls or to call us if you need something. -Free fast wi-fi from the best internet provider in Greece. You do not share the connection with other people. -32” brand new LG tv  & DVD player -Cable TV with 1) News Channels: BBC, DW, France 24, Aljazeera, RT, Bloomberg, CNBC, Euronews 2) Movies Channels: Ote Cinmea 1, 2, 3, 4, Village Cinema, Sundance Channel,  \n",
      "\n",
      "Recommended:  Beautiful Apt in Athens next Plaka \n",
      "Description:  Located in the \"heart\" of Athens city center -Ancient and Modern- you could not be more in the historical center of Athens and in the center of night life at the same time!! A breath away from Acropolis. The apartment is brand new after full renovation which was completed the September 2015. It's the perfect place for the demanding business, for leisure traveler who seeks style, comfort and privacy and of course for families!   It is in the first floor, fully furnished and fully equipped! The kitchen is fully equipped with oven, fridge with freezer, cutlery, dishes and pans, kettle, espresso coffee maker, toaster, microwave. You will enjoy having your complimentary coffee during your stay. There is one space enough bedroom with a double bed and a closet. For more than two guests there is a sofa which turns to a double bed. Moreover, the apartment is fully air conditioned.   Of course the beds are already made-up, with fresh ironed sheets from top quality Coco-Mat brand. Furthermore the \n",
      "\n"
     ]
    }
   ],
   "source": [
    "\"\"\"\n",
    "Σε αυτό το ερώτημα φτιάξαμε μία συνάρτηση \n",
    "η οποία παίρνει σαν είσοδο ένα id και έναν\n",
    "ακέραιο αριθμό N, και επιστρέφει τα Ν πιο\n",
    "όμοια ακίνητα.\n",
    "\"\"\"\n",
    "\n",
    "def recommend(item_id, N):\n",
    "    id_list = df_new['id'].tolist()\n",
    "    index = id_list.index(item_id)\n",
    "    sim_list = sim[index]\n",
    "    indices = (sorted(range(len(sim_list)), key = lambda sub: sim_list[sub])[-1:-N-1:-1])\n",
    "    print('Based to: ', df_new['name'][index], ' \\nDescription: ', df_new['description'][index], '\\n\\n')\n",
    "    print('Recommending ', N, ' apartments similar to ', item_id, '\\n--------------------------------------------')\n",
    "    for y in indices:\n",
    "        print('Recommended: ', df_new['name'][y], '\\nDescription: ', df_new['description'][y], '\\n')\n",
    "recommend(10595,5)"
   ]
  },
  {
   "cell_type": "markdown",
   "metadata": {},
   "source": [
    "## Ερώτημα 3.4"
   ]
  },
  {
   "cell_type": "code",
   "execution_count": 11,
   "metadata": {},
   "outputs": [
    {
     "data": {
      "text/plain": [
       "[('living', 'room'),\n",
       " ('fully', 'equipped'),\n",
       " ('metro', 'station'),\n",
       " ('walking', 'distance'),\n",
       " ('double', 'bed'),\n",
       " ('washing', 'machine'),\n",
       " ('equipped', 'kitchen'),\n",
       " ('syntagma', 'square'),\n",
       " ('brand', 'new'),\n",
       " ('air', 'conditioning')]"
      ]
     },
     "execution_count": 11,
     "metadata": {},
     "output_type": "execute_result"
    }
   ],
   "source": [
    "\"\"\"\n",
    "Εδώ χρησιμοποιήσαμε τον BigramCollocationFinder \n",
    "για να βρούμε τα 10 words που τείνουν να \n",
    "εμφανίζονται συχνά μαζί.\n",
    "\"\"\"\n",
    "\n",
    "filter_stops = lambda w: len(w) < 3 or w in all_stopwords \n",
    "text = nltk.wordpunct_tokenize(' '.join([str(elem) for elem in df_new['new_col'].tolist()]))\n",
    "text = (ch for ch in text if ch not in set(string.punctuation))\n",
    "text = [w.lower() for w in text]\n",
    "    \n",
    "biagram_collocation = BigramCollocationFinder.from_words(text)\n",
    "biagram_collocation.apply_word_filter(filter_stops) \n",
    "biagram_collocation.nbest(BigramAssocMeasures.likelihood_ratio, 10) "
   ]
  },
  {
   "cell_type": "code",
   "execution_count": 12,
   "metadata": {},
   "outputs": [
    {
     "name": "stdout",
     "output_type": "stream",
     "text": [
      "Time elapsed:  34.558918952941895\n"
     ]
    }
   ],
   "source": [
    "t2 = time.time()\n",
    "print(\"Time elapsed: \",t2-t1)"
   ]
  },
  {
   "cell_type": "markdown",
   "metadata": {},
   "source": [
    " "
   ]
  }
 ],
 "metadata": {
  "kernelspec": {
   "display_name": "Python 3",
   "language": "python",
   "name": "python3"
  },
  "language_info": {
   "codemirror_mode": {
    "name": "ipython",
    "version": 3
   },
   "file_extension": ".py",
   "mimetype": "text/x-python",
   "name": "python",
   "nbconvert_exporter": "python",
   "pygments_lexer": "ipython3",
   "version": "3.7.6"
  }
 },
 "nbformat": 4,
 "nbformat_minor": 4
}
